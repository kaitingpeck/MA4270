{
 "cells": [
  {
   "cell_type": "code",
   "execution_count": 58,
   "metadata": {},
   "outputs": [],
   "source": [
    "import numpy as np\n",
    "import pandas as pd\n",
    "import matplotlib.pyplot as plt\n",
    "import matplotlib.patches as mpatches\n",
    "import math\n",
    "import time"
   ]
  },
  {
   "cell_type": "markdown",
   "metadata": {},
   "source": [
    "# Problem 1"
   ]
  },
  {
   "cell_type": "markdown",
   "metadata": {},
   "source": [
    "## Preamble"
   ]
  },
  {
   "cell_type": "code",
   "execution_count": 59,
   "metadata": {},
   "outputs": [
    {
     "data": {
      "text/html": [
       "<div>\n",
       "<style scoped>\n",
       "    .dataframe tbody tr th:only-of-type {\n",
       "        vertical-align: middle;\n",
       "    }\n",
       "\n",
       "    .dataframe tbody tr th {\n",
       "        vertical-align: top;\n",
       "    }\n",
       "\n",
       "    .dataframe thead th {\n",
       "        text-align: right;\n",
       "    }\n",
       "</style>\n",
       "<table border=\"1\" class=\"dataframe\">\n",
       "  <thead>\n",
       "    <tr style=\"text-align: right;\">\n",
       "      <th></th>\n",
       "      <th>x1</th>\n",
       "      <th>x2</th>\n",
       "      <th>y</th>\n",
       "    </tr>\n",
       "  </thead>\n",
       "  <tbody>\n",
       "    <tr>\n",
       "      <th>0</th>\n",
       "      <td>0.65865</td>\n",
       "      <td>-0.75245</td>\n",
       "      <td>1</td>\n",
       "    </tr>\n",
       "    <tr>\n",
       "      <th>1</th>\n",
       "      <td>0.53805</td>\n",
       "      <td>-0.84291</td>\n",
       "      <td>1</td>\n",
       "    </tr>\n",
       "    <tr>\n",
       "      <th>2</th>\n",
       "      <td>-0.34941</td>\n",
       "      <td>-0.93697</td>\n",
       "      <td>-1</td>\n",
       "    </tr>\n",
       "    <tr>\n",
       "      <th>3</th>\n",
       "      <td>0.56989</td>\n",
       "      <td>-0.82172</td>\n",
       "      <td>1</td>\n",
       "    </tr>\n",
       "    <tr>\n",
       "      <th>4</th>\n",
       "      <td>-0.42218</td>\n",
       "      <td>-0.90651</td>\n",
       "      <td>-1</td>\n",
       "    </tr>\n",
       "  </tbody>\n",
       "</table>\n",
       "</div>"
      ],
      "text/plain": [
       "        x1       x2  y\n",
       "0  0.65865 -0.75245  1\n",
       "1  0.53805 -0.84291  1\n",
       "2 -0.34941 -0.93697 -1\n",
       "3  0.56989 -0.82172  1\n",
       "4 -0.42218 -0.90651 -1"
      ]
     },
     "execution_count": 59,
     "metadata": {},
     "output_type": "execute_result"
    }
   ],
   "source": [
    "# Replace with file path of Problem1.csv if not in the same folder as this notebook\n",
    "prob1_fp = 'Problem1.csv'\n",
    "\n",
    "# Import data\n",
    "prob1_df = pd.read_csv(prob1_fp, header=None, names=['x1','x2','y'])\n",
    "\n",
    "# Set up problem parameters and vectors\n",
    "n, p, x1, x2, y = prob1_df.shape[0], prob1_df.shape[1] - 1, prob1_df['x1'], prob1_df['x2'], prob1_df['y']\n",
    "X = prob1_df[['x1','x2']]\n",
    "\n",
    "# Preview the first 5 rows\n",
    "prob1_df.head(5)"
   ]
  },
  {
   "cell_type": "markdown",
   "metadata": {},
   "source": [
    "## Problem 1 Q1 - Plotting"
   ]
  },
  {
   "cell_type": "code",
   "execution_count": 60,
   "metadata": {},
   "outputs": [
    {
     "data": {
      "image/png": "[encoded data removed]",
      "text/plain": [
       "<matplotlib.figure.Figure at 0x1e176a5c0b8>"
      ]
     },
     "metadata": {},
     "output_type": "display_data"
    }
   ],
   "source": [
    "fig_prob1q1, ax = plt.subplots(1, figsize=(8,6))\n",
    "y_marker = {1: 'r+', -1: 'b_'}\n",
    "ax.set_title(r'Plot showing linear separability of the data')\n",
    "ax.set_xlabel(r'$x_1$')\n",
    "ax.set_ylabel(r'$x_2$')\n",
    "\n",
    "red_patch = mpatches.Patch(color='red', label='Positive training samples')\n",
    "blue_patch = mpatches.Patch(color='blue', label='Negative training samples')\n",
    "plt.legend(handles=[red_patch, blue_patch])\n",
    "\n",
    "for t in range(0,n):\n",
    "    plt.plot(x1[t],x2[t],y_marker[y[t]])\n",
    "\n",
    "plt.savefig(\"problem1_q1\", dpi=300, bbox_inches='tight') # Exports the figure\n",
    "plt.show()"
   ]
  },
  {
   "cell_type": "markdown",
   "metadata": {},
   "source": [
    "## Problem 1 Q2 - Finding max-margin solution using SVM"
   ]
  },
  {
   "cell_type": "markdown",
   "metadata": {},
   "source": [
    "* We recommend using the *quadprog* module in conjuction with the below function (which is just a convenient wrapper) to solve the SVM optimization. Before running the below cell, install Python package *quadprog* by opening anaconda command prompt and running:\n",
    "\n",
    "   *pip install quadprog*\n",
    "   \n",
    "   \n",
    "* You can use other optimization packages such as CVXOPT or CVXPY if you are able to install them correctly (if you are using later versions of Python > 3.4 you may need to create virtual environment to install such packages)\n",
    "\n",
    "* The below function solves a quadratic program:\n",
    "        minimize\n",
    "            (1/2) * x.T * P * x + q.T * x\n",
    "        subject to\n",
    "            G * x <= h\n",
    "            A * x == b\n",
    "            \n",
    "* **Important:** You might encounter an error (even in other convex optimization software) that the objective matrix is not PD. A workaround is to perturb the matrix along the diagonal by a small positive epsilon.  "
   ]
  },
  {
   "cell_type": "code",
   "execution_count": 61,
   "metadata": {},
   "outputs": [],
   "source": [
    "def calculate_gamma(X, y, theta, n):\n",
    "    gamma = np.inf\n",
    "    for t in range(0,n):\n",
    "        gamma = min(gamma, y[t]*np.dot(theta,X.values[t]))\n",
    "    return gamma"
   ]
  },
  {
   "cell_type": "code",
   "execution_count": 62,
   "metadata": {},
   "outputs": [],
   "source": [
    "import quadprog\n",
    "\n",
    "def quadprog_solve_qp(P, q, G=None, h=None, A=None, b=None, initvals=None):\n",
    "    if initvals is not None:\n",
    "        print(\"quadprog: note that warm-start values ignored by wrapper\")\n",
    "    qp_G = P\n",
    "    qp_a = -q\n",
    "    if A is not None:\n",
    "        qp_C = -np.vstack([A, G]).T\n",
    "        qp_b = -np.hstack([b, h])\n",
    "        meq = A.shape[0]\n",
    "    else:  # no equality constraint\n",
    "        qp_C = -G.T\n",
    "        qp_b = -h\n",
    "        meq = 0\n",
    "    return quadprog.solve_qp(qp_G, qp_a, qp_C, qp_b, meq)[0]"
   ]
  },
  {
   "cell_type": "code",
   "execution_count": 63,
   "metadata": {},
   "outputs": [
    {
     "name": "stdout",
     "output_type": "stream",
     "text": [
      "Problem 1 Q2 \n",
      "=================================\n",
      "theta^*: [0.99257345 0.12164684]\n",
      "gamma^*: 0.4314845982168759\n"
     ]
    }
   ],
   "source": [
    "P = np.identity(p)\n",
    "q = np.zeros(p)\n",
    "G = -np.multiply(np.matrix(y).T,X)\n",
    "h = -1*np.ones(n)\n",
    "\n",
    "theta_star = quadprog_solve_qp(P, q, G=G, h=h) \n",
    "# Normalize theta\n",
    "theta_star = (1.0/np.linalg.norm(theta_star)) * theta_star\n",
    "# Calculate gamma_star\n",
    "gamma_star = calculate_gamma(X, y, theta_star, n)\n",
    "\n",
    "print('Problem 1 Q2 \\n=================================')\n",
    "print('theta^*: %s' % theta_star)\n",
    "print('gamma^*: %s' % gamma_star)"
   ]
  },
  {
   "cell_type": "markdown",
   "metadata": {},
   "source": [
    "## Problem 1 Q3 - Standard Perceptron Algorithm"
   ]
  },
  {
   "cell_type": "markdown",
   "metadata": {},
   "source": [
    "### Problem 1 Q3(a)"
   ]
  },
  {
   "cell_type": "code",
   "execution_count": 64,
   "metadata": {},
   "outputs": [],
   "source": [
    "## Std. Perceptron Implementation\n",
    "\"\"\"\n",
    "Parameters:\n",
    "X: (n,p) feature matrix\n",
    "y: n-vector of labels\n",
    "theta_zero: initial theta\n",
    "\n",
    "Returns:\n",
    "k: # updates\n",
    "theta_k: Converged (normalized) theta\n",
    "gamma: margin for this theta_k\n",
    "\"\"\"\n",
    "def std_perceptron(X, y, theta_zero):   \n",
    "    k = 0\n",
    "    theta_k = theta_zero\n",
    "    gamma = None    \n",
    "\n",
    "    isSolution = False\n",
    "    while isSolution == False:\n",
    "        # raise exception if exceed 10000 iterations\n",
    "        if k > 10000:\n",
    "            raise Exception('exceeded 10000 iterations')\n",
    "        isSolution = True\n",
    "        for t in range(0,n):\n",
    "            y_t = y[t]\n",
    "            x_t = X.values[t] \n",
    "            if y[t]*np.dot(theta_k,x_t)<=0:\n",
    "                theta_k = theta_k + y_t * x_t\n",
    "                isSolution = False\n",
    "                k += 1\n",
    "    \n",
    "    # Completed Perceptron - normalize theta and calculate gamma\n",
    "    theta_k = np.multiply((1.0/np.linalg.norm(theta_k)),theta_k)\n",
    "    gamma = calculate_gamma(X,y,theta_k,n)\n",
    "                 \n",
    "    return k, theta_k, gamma"
   ]
  },
  {
   "cell_type": "code",
   "execution_count": 65,
   "metadata": {},
   "outputs": [
    {
     "name": "stdout",
     "output_type": "stream",
     "text": [
      "Problem 1 Q3(a) \n",
      "=================================\n",
      "Number of updates, k = 2\n",
      "theta = [0.98365688 0.18005314]\n",
      "gamma = 0.37745488374724534\n"
     ]
    }
   ],
   "source": [
    "## Run this to see results\n",
    "theta_zero = np.zeros(p)\n",
    "k, theta, gamma = std_perceptron(X, y, theta_zero)\n",
    "print('Problem 1 Q3(a) \\n=================================')\n",
    "print(\"Number of updates, k = %s\" % k)\n",
    "print(\"theta = %s\" % theta)\n",
    "print(\"gamma = %s\" % gamma)"
   ]
  },
  {
   "cell_type": "markdown",
   "metadata": {},
   "source": [
    "### Problem 1 Q3(b)"
   ]
  },
  {
   "cell_type": "code",
   "execution_count": 66,
   "metadata": {
    "scrolled": true
   },
   "outputs": [
    {
     "name": "stdout",
     "output_type": "stream",
     "text": [
      "================= Iter 0 =================\n",
      "theta_zero = [0.67360871 0.33054755]\n",
      "k = 0, theta = [0.898,0.441], gamma=0.112\n",
      "================= Iter 1 =================\n",
      "theta_zero = [0.92907048 0.81037498]\n",
      "k = 1, theta = [1.000,-0.022], gamma=0.297\n",
      "================= Iter 2 =================\n",
      "theta_zero = [0.68588925 0.28404271]\n",
      "k = 0, theta = [0.924,0.383], gamma=0.175\n",
      "================= Iter 3 =================\n",
      "theta_zero = [0.18071892 0.05301995]\n",
      "k = 0, theta = [0.960,0.282], gamma=0.279\n",
      "================= Iter 4 =================\n",
      "theta_zero = [0.89741097 0.7844022 ]\n",
      "k = 1, theta = [0.999,-0.041], gamma=0.280\n",
      "================= Iter 5 =================\n",
      "theta_zero = [0.81425816 0.4654737 ]\n",
      "k = 0, theta = [0.868,0.496], gamma=0.049\n",
      "================= Iter 6 =================\n",
      "theta_zero = [0.85759134 0.53144607]\n",
      "k = 0, theta = [0.850,0.527], gamma=0.013\n",
      "================= Iter 7 =================\n",
      "theta_zero = [0.28672446 0.32191657]\n",
      "k = 2, theta = [0.931,0.364], gamma=0.194\n",
      "================= Iter 8 =================\n",
      "theta_zero = [0.115096   0.20357841]\n",
      "k = 2, theta = [0.945,0.327], gamma=0.233\n",
      "================= Iter 9 =================\n",
      "theta_zero = [0.00366389 0.1913366 ]\n",
      "k = 2, theta = [0.937,0.348], gamma=0.211\n"
     ]
    }
   ],
   "source": [
    "num_iter = 10\n",
    "for i in range(0,num_iter):\n",
    "    # Generate theta_zero for each iteration and run perceptron\n",
    "    theta_zero_i = np.random.rand(2)\n",
    "    k_i, theta_i, gamma_i = std_perceptron(X, y, theta_zero_i)\n",
    "    \n",
    "    print('================= Iter %s =================' % i)\n",
    "    print('theta_zero = %s' % theta_zero_i)\n",
    "    print('k = %s, theta = [%.3f,%.3f], gamma=%.3f' % (k_i, theta_i[0], theta_i[1], gamma_i))"
   ]
  },
  {
   "cell_type": "markdown",
   "metadata": {},
   "source": [
    "### Problem 1 Q3(d)"
   ]
  },
  {
   "cell_type": "code",
   "execution_count": 39,
   "metadata": {},
   "outputs": [],
   "source": [
    "\"\"\"\n",
    "Parameters:\n",
    "d: dimension of the sphere\n",
    "\n",
    "Returns:\n",
    "random point from boundary of d-sphere\n",
    "\"\"\"\n",
    "def sample_unit_sphere(d):    \n",
    "    # Generate a point from the boundary of a d-sphere\n",
    "    x = np.random.normal(0.0,1.0,(d))\n",
    "    norm_x = np.linalg.norm(x)\n",
    "    point = x/norm_x\n",
    "\n",
    "    return point    "
   ]
  },
  {
   "cell_type": "code",
   "execution_count": 11,
   "metadata": {},
   "outputs": [
    {
     "data": {
      "image/png": "[encoded data removed]",
      "text/plain": [
       "<matplotlib.figure.Figure at 0x1e1763a7240>"
      ]
     },
     "metadata": {},
     "output_type": "display_data"
    }
   ],
   "source": [
    "fig, ax = plt.subplots(1, figsize=(8,8))\n",
    "ax.set_xlim(-1.1,1.1)\n",
    "ax.set_ylim(-1.1,1.1)\n",
    "for i in range(200):\n",
    "    point = sample_unit_sphere(2)\n",
    "    ax.scatter(point[0], point[1])\n",
    "plt.show()"
   ]
  },
  {
   "cell_type": "code",
   "execution_count": 12,
   "metadata": {},
   "outputs": [],
   "source": [
    "#Sample theta^{(0)} from the unit-circle at each round and run the std perceptron\n",
    "k_vector, theta_vector, gamma_vector, theta_zero_vector = [], [], [], []\n",
    "for i in range(10000):\n",
    "    theta_zero_i = sample_unit_sphere(2)\n",
    "    #record theta_zero\n",
    "    theta_zero_vector.append(theta_zero_i)\n",
    "    \n",
    "    #run perceptron and record results\n",
    "    k_i, theta_i, gamma_i = std_perceptron(X, y, theta_zero_i)\n",
    "    k_vector.append(k_i)\n",
    "    theta_vector.append(theta_i)\n",
    "    gamma_vector.append(gamma_i)"
   ]
  },
  {
   "cell_type": "code",
   "execution_count": 13,
   "metadata": {},
   "outputs": [
    {
     "data": {
      "image/png": "[encoded data removed]",
      "text/plain": [
       "<matplotlib.figure.Figure at 0x1e1763a7d30>"
      ]
     },
     "metadata": {},
     "output_type": "display_data"
    },
    {
     "name": "stdout",
     "output_type": "stream",
     "text": [
      "average of no. of updates over 10000 runs = 1.8079\n",
      "average of gamma_star = 0.2464211670650252\n"
     ]
    }
   ],
   "source": [
    "fig_prob1q3d, ax = plt.subplots(1, figsize=(12,8))\n",
    "ax.set_title(r'Actual k vs Theoretical Bound')\n",
    "\n",
    "theo_vector = []\n",
    "\n",
    "# Calculate theoretical bound for each theta_zero\n",
    "for i in range(100):\n",
    "    theta = theta_vector[i]\n",
    "    theta_zero = theta_zero_vector[i]\n",
    "    gamma = gamma_vector[i]\n",
    "    a = np.dot(theta, theta_zero)\n",
    "    theo_vector.append(max(-a/gamma, (1 - (2*a*gamma) + math.sqrt(math.pow(2*a*gamma - 1, 2) - \n",
    "                                                            (4 * math.pow(gamma,2) * (math.pow(a,2)-1)))) / (2*math.pow(gamma,2)) ))\n",
    "# Plot actual k vs theoretical bound\n",
    "ax.set_xlabel(r'$theoretical bound$')\n",
    "ax.set_ylabel(r'$actual k$')\n",
    "plt.plot(theo_vector, k_vector[:100],'o',markersize=5)\n",
    " \n",
    "plt.savefig(\"problem1_q3d\", dpi=300, bbox_inches='tight') # Exports the figure\n",
    "plt.show()\n",
    "\n",
    "# calculate average of k's and average of gamma's\n",
    "print(\"average of no. of updates over 10000 runs = %s\" % np.average(k_vector))\n",
    "print(\"average of gamma_star = %s\" % np.average(gamma_vector))"
   ]
  },
  {
   "cell_type": "markdown",
   "metadata": {},
   "source": [
    "## Problem 1 Q4 - Linear Inseparability"
   ]
  },
  {
   "cell_type": "code",
   "execution_count": 46,
   "metadata": {},
   "outputs": [
    {
     "name": "stderr",
     "output_type": "stream",
     "text": [
      "C:\\Users\\Kai\\Anaconda3\\lib\\site-packages\\ipykernel_launcher.py:2: SettingWithCopyWarning: \n",
      "A value is trying to be set on a copy of a slice from a DataFrame\n",
      "\n",
      "See the caveats in the documentation: http://pandas.pydata.org/pandas-docs/stable/indexing.html#indexing-view-versus-copy\n",
      "  \n",
      "C:\\Users\\Kai\\Anaconda3\\lib\\site-packages\\ipykernel_launcher.py:3: SettingWithCopyWarning: \n",
      "A value is trying to be set on a copy of a slice from a DataFrame\n",
      "\n",
      "See the caveats in the documentation: http://pandas.pydata.org/pandas-docs/stable/indexing.html#indexing-view-versus-copy\n",
      "  This is separate from the ipykernel package so we can avoid doing imports until\n"
     ]
    }
   ],
   "source": [
    "# Modify dataset\n",
    "y[0] = -1\n",
    "y[2] = 1\n"
   ]
  },
  {
   "cell_type": "code",
   "execution_count": 47,
   "metadata": {},
   "outputs": [
    {
     "data": {
      "image/png": "[encoded data removed]",
      "text/plain": [
       "<matplotlib.figure.Figure at 0x1e1763ba898>"
      ]
     },
     "metadata": {},
     "output_type": "display_data"
    }
   ],
   "source": [
    "## Plotting\n",
    "fig_prob1q4, ax = plt.subplots(1, figsize=(8,6))\n",
    "y_marker = {1: 'r+', -1: 'b_'}\n",
    "ax.set_title(r'Plot showing linear inseparability of the data')\n",
    "ax.set_xlabel(r'$x_1$')\n",
    "ax.set_ylabel(r'$x_2$')\n",
    "\n",
    "for t in range(0,n):\n",
    "    plt.plot(x1[t],x2[t],y_marker[y[t]])\n",
    "\n",
    "plt.savefig(\"problem1_q4\", dpi=300, bbox_inches='tight') # Exports the figure\n",
    "plt.show()"
   ]
  },
  {
   "cell_type": "code",
   "execution_count": 48,
   "metadata": {},
   "outputs": [
    {
     "ename": "Exception",
     "evalue": "exceeded 100000 iterations",
     "output_type": "error",
     "traceback": [
      "\u001b[1;31m---------------------------------------------------------------------------\u001b[0m",
      "\u001b[1;31mException\u001b[0m                                 Traceback (most recent call last)",
      "\u001b[1;32m<ipython-input-48-21ca5c3dff7a>\u001b[0m in \u001b[0;36m<module>\u001b[1;34m()\u001b[0m\n\u001b[0;32m      5\u001b[0m \u001b[1;31m# Run Perceptron\u001b[0m\u001b[1;33m\u001b[0m\u001b[1;33m\u001b[0m\u001b[0m\n\u001b[0;32m      6\u001b[0m \u001b[0mtheta_zero\u001b[0m \u001b[1;33m=\u001b[0m \u001b[0mnp\u001b[0m\u001b[1;33m.\u001b[0m\u001b[0mrandom\u001b[0m\u001b[1;33m.\u001b[0m\u001b[0mrand\u001b[0m\u001b[1;33m(\u001b[0m\u001b[1;36m2\u001b[0m\u001b[1;33m)\u001b[0m\u001b[1;33m\u001b[0m\u001b[0m\n\u001b[1;32m----> 7\u001b[1;33m \u001b[0mk\u001b[0m\u001b[1;33m,\u001b[0m \u001b[0mtheta\u001b[0m\u001b[1;33m,\u001b[0m \u001b[0mgamma\u001b[0m \u001b[1;33m=\u001b[0m \u001b[0mstd_perceptron\u001b[0m\u001b[1;33m(\u001b[0m\u001b[0mX\u001b[0m\u001b[1;33m,\u001b[0m \u001b[0my\u001b[0m\u001b[1;33m,\u001b[0m \u001b[0mtheta_zero\u001b[0m\u001b[1;33m)\u001b[0m\u001b[1;33m\u001b[0m\u001b[0m\n\u001b[0m",
      "\u001b[1;32m<ipython-input-45-bd18e77af62c>\u001b[0m in \u001b[0;36mstd_perceptron\u001b[1;34m(X, y, theta_zero)\u001b[0m\n\u001b[0;32m     20\u001b[0m         \u001b[1;31m# raise exception if exceed 10000 iterations\u001b[0m\u001b[1;33m\u001b[0m\u001b[1;33m\u001b[0m\u001b[0m\n\u001b[0;32m     21\u001b[0m         \u001b[1;32mif\u001b[0m \u001b[0mk\u001b[0m \u001b[1;33m>\u001b[0m \u001b[1;36m100000\u001b[0m\u001b[1;33m:\u001b[0m\u001b[1;33m\u001b[0m\u001b[0m\n\u001b[1;32m---> 22\u001b[1;33m             \u001b[1;32mraise\u001b[0m \u001b[0mException\u001b[0m\u001b[1;33m(\u001b[0m\u001b[1;34m'exceeded 100000 iterations'\u001b[0m\u001b[1;33m)\u001b[0m\u001b[1;33m\u001b[0m\u001b[0m\n\u001b[0m\u001b[0;32m     23\u001b[0m         \u001b[0misSolution\u001b[0m \u001b[1;33m=\u001b[0m \u001b[1;32mTrue\u001b[0m\u001b[1;33m\u001b[0m\u001b[0m\n\u001b[0;32m     24\u001b[0m         \u001b[1;32mfor\u001b[0m \u001b[0mt\u001b[0m \u001b[1;32min\u001b[0m \u001b[0mrange\u001b[0m\u001b[1;33m(\u001b[0m\u001b[1;36m0\u001b[0m\u001b[1;33m,\u001b[0m\u001b[0mn\u001b[0m\u001b[1;33m)\u001b[0m\u001b[1;33m:\u001b[0m\u001b[1;33m\u001b[0m\u001b[0m\n",
      "\u001b[1;31mException\u001b[0m: exceeded 100000 iterations"
     ]
    }
   ],
   "source": [
    "# Run SVM\n",
    "G = -np.multiply(np.matrix(y).T,X)\n",
    "#theta_star = quadprog_solve_qp(P, q, G=G, h=h) \n",
    "\n",
    "# Run Perceptron\n",
    "theta_zero = np.random.rand(2)\n",
    "k, theta, gamma = std_perceptron(X, y, theta_zero)"
   ]
  },
  {
   "cell_type": "markdown",
   "metadata": {},
   "source": [
    "# Problem 2"
   ]
  },
  {
   "cell_type": "markdown",
   "metadata": {},
   "source": [
    "## Preamble"
   ]
  },
  {
   "cell_type": "code",
   "execution_count": 18,
   "metadata": {},
   "outputs": [
    {
     "data": {
      "text/html": [
       "<div>\n",
       "<style scoped>\n",
       "    .dataframe tbody tr th:only-of-type {\n",
       "        vertical-align: middle;\n",
       "    }\n",
       "\n",
       "    .dataframe tbody tr th {\n",
       "        vertical-align: top;\n",
       "    }\n",
       "\n",
       "    .dataframe thead th {\n",
       "        text-align: right;\n",
       "    }\n",
       "</style>\n",
       "<table border=\"1\" class=\"dataframe\">\n",
       "  <thead>\n",
       "    <tr style=\"text-align: right;\">\n",
       "      <th></th>\n",
       "      <th>x1</th>\n",
       "      <th>x2</th>\n",
       "      <th>y</th>\n",
       "    </tr>\n",
       "  </thead>\n",
       "  <tbody>\n",
       "    <tr>\n",
       "      <th>0</th>\n",
       "      <td>5.1</td>\n",
       "      <td>3.5</td>\n",
       "      <td>-1</td>\n",
       "    </tr>\n",
       "    <tr>\n",
       "      <th>1</th>\n",
       "      <td>4.9</td>\n",
       "      <td>3.0</td>\n",
       "      <td>-1</td>\n",
       "    </tr>\n",
       "    <tr>\n",
       "      <th>2</th>\n",
       "      <td>4.7</td>\n",
       "      <td>3.2</td>\n",
       "      <td>-1</td>\n",
       "    </tr>\n",
       "    <tr>\n",
       "      <th>3</th>\n",
       "      <td>4.6</td>\n",
       "      <td>3.1</td>\n",
       "      <td>-1</td>\n",
       "    </tr>\n",
       "    <tr>\n",
       "      <th>4</th>\n",
       "      <td>5.0</td>\n",
       "      <td>3.6</td>\n",
       "      <td>-1</td>\n",
       "    </tr>\n",
       "  </tbody>\n",
       "</table>\n",
       "</div>"
      ],
      "text/plain": [
       "    x1   x2  y\n",
       "0  5.1  3.5 -1\n",
       "1  4.9  3.0 -1\n",
       "2  4.7  3.2 -1\n",
       "3  4.6  3.1 -1\n",
       "4  5.0  3.6 -1"
      ]
     },
     "execution_count": 18,
     "metadata": {},
     "output_type": "execute_result"
    }
   ],
   "source": [
    "# Replace with file path of iris1.csv if not in the same folder as this notebook\n",
    "prob2_fp = 'iris1.csv'\n",
    "\n",
    "# Import data\n",
    "prob2_df = pd.read_csv(prob2_fp, header=None, names=['x1','x2','y'])\n",
    "\n",
    "# Set up problem parameters and vectors\n",
    "n, p, x1, x2, y = prob2_df.shape[0], prob2_df.shape[1] - 1, prob2_df['x1'], prob2_df['x2'], prob2_df['y']\n",
    "X = prob2_df[['x1','x2']]\n",
    "\n",
    "# Preview the first 5 rows\n",
    "prob2_df.head(5)"
   ]
  },
  {
   "cell_type": "markdown",
   "metadata": {},
   "source": [
    "## Problem 2 Q1"
   ]
  },
  {
   "cell_type": "code",
   "execution_count": 19,
   "metadata": {},
   "outputs": [
    {
     "data": {
      "image/png": "[encoded data removed]",
      "text/plain": [
       "<matplotlib.figure.Figure at 0x1e176c454a8>"
      ]
     },
     "metadata": {},
     "output_type": "display_data"
    }
   ],
   "source": [
    "# Plot data\n",
    "fig_prob2q1, ax = plt.subplots(1, figsize=(8,6))\n",
    "y_marker = {1: 'r+', -1: 'b_'}\n",
    "ax.set_title(r'Plot showing linear separability of the data')\n",
    "ax.set_xlabel(r'$x_1$')\n",
    "ax.set_ylabel(r'$x_2$')\n",
    "\n",
    "for t in range(0,n):\n",
    "    plt.plot(x1[t],x2[t],y_marker[y[t]])\n",
    "\n",
    "plt.savefig(\"problem2_q1\", dpi=300, bbox_inches='tight') # Exports the figure\n",
    "plt.show()"
   ]
  },
  {
   "cell_type": "markdown",
   "metadata": {},
   "source": [
    "## Problem 2 Q2"
   ]
  },
  {
   "cell_type": "code",
   "execution_count": 28,
   "metadata": {},
   "outputs": [
    {
     "name": "stdout",
     "output_type": "stream",
     "text": [
      "Time taken to solve primal problem: 0.0002425967179391364\n",
      "Problem 2 Q2 \n",
      "=================================\n",
      "theta^*: [ 6.31578947 -5.26315789]\n",
      "theta_zero^*: -17.31578947378911\n",
      "optimal objective value: 33.79501385068385\n"
     ]
    }
   ],
   "source": [
    "# Set matrices for quadprog\n",
    "P = np.identity(p+1)\n",
    "# make the last row a zero row so that we do not include the offset in the objective function; \n",
    "# however a matrix with zero row is not positive definite so use eps\n",
    "for i in range(0,p+1):\n",
    "    if i == p:\n",
    "        P[i][i] = 3e-8\n",
    "    else:\n",
    "        P[i][i] = P[i][i] + 3e-8\n",
    "q = np.zeros(p+1)\n",
    "G = -1*np.concatenate((np.multiply(np.matrix(y).T,X),np.matrix(y).T),axis=1)\n",
    "h = -1*np.ones(n)\n",
    "\n",
    "start = time.clock()\n",
    "theta_hardsvm = quadprog_solve_qp(P, q, G=G, h=h)\n",
    "end = time.clock()\n",
    "print(\"Time taken to solve primal problem: %s\" % (end - start))\n",
    " \n",
    "# Normalize theta\n",
    "theta_star = theta_hardsvm[0:p]\n",
    "theta_zero = theta_hardsvm[p]\n",
    "obj_value = 0.5*math.pow(np.linalg.norm(theta_star),2)\n",
    "\n",
    "print('Problem 2 Q2 \\n=================================')\n",
    "print('theta^*: %s' % theta_star)\n",
    "print('theta_zero^*: %s' % theta_zero)\n",
    "print('optimal objective value: %s' % obj_value)"
   ]
  },
  {
   "cell_type": "markdown",
   "metadata": {},
   "source": [
    "## Problem 2 Q3"
   ]
  },
  {
   "cell_type": "code",
   "execution_count": 28,
   "metadata": {},
   "outputs": [],
   "source": [
    "SV = []\n",
    "for i in range(n):    \n",
    "    # Detect support vectors and append their indices into SV\n",
    "    if y[i]*(np.dot(theta_star,X.values[i]) + theta_zero) <= 1 + 3e-8:\n",
    "        SV.append(i)  "
   ]
  },
  {
   "cell_type": "code",
   "execution_count": 29,
   "metadata": {},
   "outputs": [
    {
     "data": {
      "image/png": "[encoded data removed]",
      "text/plain": [
       "<matplotlib.figure.Figure at 0x21baf9065c0>"
      ]
     },
     "metadata": {},
     "output_type": "display_data"
    }
   ],
   "source": [
    "fig_prob2q3, ax = plt.subplots(1, figsize=(8,6))\n",
    "y_marker = {1: 'r+', -1: 'b_'}\n",
    "ax.set_title(r'Hard SVM with Offset')\n",
    "ax.set_xlabel(r'$x_1$')\n",
    "ax.set_ylabel(r'$x_2$')\n",
    "# Plot the original data\n",
    "for t in range(0,n):\n",
    "    plt.plot(x1[t],x2[t],y_marker[y[t]])\n",
    "\n",
    "# Plot the decision boundary\n",
    "min_x1 = min(x1)\n",
    "max_x1 = max(x1)\n",
    "min_x2 = (-theta_star[0]*min_x1 - theta_zero)/theta_star[1]\n",
    "max_x2 = (-theta_star[0]*max_x1 - theta_zero)/theta_star[1]\n",
    "\n",
    "plt.plot([min_x1,max_x1], [min_x2,max_x2])\n",
    "\n",
    "# Indicate the support vectors                                    \n",
    "for j in range(0,len(SV)):\n",
    "    plt.plot(x1[SV[j]],x2[SV[j]],'kx')\n",
    "\n",
    "plt.savefig(\"problem2_q3\", dpi=300, bbox_inches='tight') # Exports the figure\n",
    "plt.show()"
   ]
  },
  {
   "cell_type": "markdown",
   "metadata": {},
   "source": [
    "## Problem 2 Q4"
   ]
  },
  {
   "cell_type": "code",
   "execution_count": 27,
   "metadata": {},
   "outputs": [
    {
     "name": "stdout",
     "output_type": "stream",
     "text": [
      "Time taken to solve dual problem: 0.004495503796405842\n",
      "Alpha_i and their indices: [[15.900268956553191, 36], [17.894727581879124, 41], [16.398883492860477, 57], [17.396112841146532, 84]] \n",
      "\n",
      "Optional objective function value: 33.79501739019088\n"
     ]
    }
   ],
   "source": [
    "# Set up matrices\n",
    "eps = 3e-8\n",
    "\n",
    "Q = []\n",
    "for i in range(0,n):\n",
    "    temp = []\n",
    "    for j in range(0,n):\n",
    "        if i==j:\n",
    "            temp.append(y[i]*y[j]*np.dot(X.values[i], X.values[j]) + eps)\n",
    "        else:\n",
    "            temp.append(y[i]*y[j]*np.dot(X.values[i], X.values[j]))\n",
    "    Q.append(temp)\n",
    "    \n",
    "P = np.asarray(Q)\n",
    "q = -np.ones(n)\n",
    "G = -np.identity(n)  \n",
    "h = np.zeros(n)\n",
    "A = np.matrix(y)\n",
    "b = [0]\n",
    "\n",
    "start = time.clock()\n",
    "theta_dual = quadprog_solve_qp(P, q, G, h, A, b)\n",
    "end = time.clock()\n",
    "print(\"Time taken to solve dual problem: %s\" % (end - start))\n",
    "\n",
    "results = []\n",
    "for i in range(0,n):\n",
    "    if abs(theta_dual[i]) >= 10e-6:\n",
    "        # append the non-zero (>=10e-6) entries and their respective indices\n",
    "        results.append([theta_dual[i], i])\n",
    "\n",
    "# report results\n",
    "print(\"Alpha_i and their indices: %s \\n\" % results)\n",
    "\n",
    "# calculate optimal objective function value\n",
    "opt_obj = 0\n",
    "indices = []\n",
    "for i in range(0,len(results)):\n",
    "    indices.append(results[i][1])\n",
    "    \n",
    "for i in indices:\n",
    "    opt_obj = opt_obj + theta_dual[i]\n",
    "    for j in indices:\n",
    "        if abs(theta_dual[i]) >=10e-6 and abs(theta_dual[j]) >=10e-6:\n",
    "            opt_obj = opt_obj - 0.5*theta_dual[i]*theta_dual[j]*y[i]*y[j]*np.dot(X.values[i],X.values[j])\n",
    "\n",
    "print(\"Optional objective function value: %s\" % opt_obj)\n"
   ]
  },
  {
   "cell_type": "markdown",
   "metadata": {},
   "source": [
    "## Problem 2 Q5"
   ]
  },
  {
   "cell_type": "code",
   "execution_count": 52,
   "metadata": {},
   "outputs": [
    {
     "name": "stdout",
     "output_type": "stream",
     "text": [
      "First sum: [ 6.31578508 -5.26315588]\n",
      "Second sum: -17.315772347562643 \n"
     ]
    }
   ],
   "source": [
    "# Calculate the first sum\n",
    "alpha_y_x = 0\n",
    "for i in indices:\n",
    "    alpha_y_x += theta_dual[i]*y[i]*X.values[i]\n",
    "    \n",
    "print(\"First sum: %s\" % alpha_y_x) # this is also =theta_star\n",
    "\n",
    "# Calculate the second sum\n",
    "j = indices[0] # arbitrarily pick a j which satisfies aj > 0\n",
    "alpha_y_xi_xj = y[j]\n",
    "\n",
    "for i in indices:\n",
    "    alpha_y_xi_xj -= theta_dual[i]*y[i]*np.dot(X.values[i], X.values[j])\n",
    "    \n",
    "print(\"Second sum: %s \" % alpha_y_xi_xj) # this is also =theta_zero"
   ]
  },
  {
   "cell_type": "markdown",
   "metadata": {},
   "source": [
    "# Problem 3"
   ]
  },
  {
   "cell_type": "markdown",
   "metadata": {},
   "source": [
    "## Preamble"
   ]
  },
  {
   "cell_type": "code",
   "execution_count": 33,
   "metadata": {},
   "outputs": [
    {
     "data": {
      "text/html": [
       "<div>\n",
       "<style scoped>\n",
       "    .dataframe tbody tr th:only-of-type {\n",
       "        vertical-align: middle;\n",
       "    }\n",
       "\n",
       "    .dataframe tbody tr th {\n",
       "        vertical-align: top;\n",
       "    }\n",
       "\n",
       "    .dataframe thead th {\n",
       "        text-align: right;\n",
       "    }\n",
       "</style>\n",
       "<table border=\"1\" class=\"dataframe\">\n",
       "  <thead>\n",
       "    <tr style=\"text-align: right;\">\n",
       "      <th></th>\n",
       "      <th>x1</th>\n",
       "      <th>x2</th>\n",
       "      <th>x3</th>\n",
       "      <th>x4</th>\n",
       "      <th>y</th>\n",
       "    </tr>\n",
       "  </thead>\n",
       "  <tbody>\n",
       "    <tr>\n",
       "      <th>0</th>\n",
       "      <td>7.0</td>\n",
       "      <td>3.2</td>\n",
       "      <td>4.7</td>\n",
       "      <td>1.4</td>\n",
       "      <td>-1</td>\n",
       "    </tr>\n",
       "    <tr>\n",
       "      <th>1</th>\n",
       "      <td>6.4</td>\n",
       "      <td>3.2</td>\n",
       "      <td>4.5</td>\n",
       "      <td>1.5</td>\n",
       "      <td>-1</td>\n",
       "    </tr>\n",
       "    <tr>\n",
       "      <th>2</th>\n",
       "      <td>6.9</td>\n",
       "      <td>3.1</td>\n",
       "      <td>4.9</td>\n",
       "      <td>1.5</td>\n",
       "      <td>-1</td>\n",
       "    </tr>\n",
       "    <tr>\n",
       "      <th>3</th>\n",
       "      <td>5.5</td>\n",
       "      <td>2.3</td>\n",
       "      <td>4.0</td>\n",
       "      <td>1.3</td>\n",
       "      <td>-1</td>\n",
       "    </tr>\n",
       "    <tr>\n",
       "      <th>4</th>\n",
       "      <td>6.5</td>\n",
       "      <td>2.8</td>\n",
       "      <td>4.6</td>\n",
       "      <td>1.5</td>\n",
       "      <td>-1</td>\n",
       "    </tr>\n",
       "  </tbody>\n",
       "</table>\n",
       "</div>"
      ],
      "text/plain": [
       "    x1   x2   x3   x4  y\n",
       "0  7.0  3.2  4.7  1.4 -1\n",
       "1  6.4  3.2  4.5  1.5 -1\n",
       "2  6.9  3.1  4.9  1.5 -1\n",
       "3  5.5  2.3  4.0  1.3 -1\n",
       "4  6.5  2.8  4.6  1.5 -1"
      ]
     },
     "execution_count": 33,
     "metadata": {},
     "output_type": "execute_result"
    }
   ],
   "source": [
    "# Replace with file path of iris1.csv if not in the same folder as this notebook\n",
    "prob3_fp = 'iris2.csv'\n",
    "\n",
    "# Import data\n",
    "prob3_df = pd.read_csv(prob3_fp, header=None, names=['x1','x2','x3','x4','y'])\n",
    "\n",
    "# Set up problem parameters and vectors\n",
    "n, p, X, y = prob3_df.shape[0], prob3_df.shape[1] - 1, prob3_df[['x1','x2','x3','x4']], prob3_df['y']\n",
    "\n",
    "# Preview the first 5 rows\n",
    "prob3_df.head(5)"
   ]
  },
  {
   "cell_type": "markdown",
   "metadata": {},
   "source": [
    "## Problem 3 Q1 - Soft SVM"
   ]
  },
  {
   "cell_type": "code",
   "execution_count": 34,
   "metadata": {},
   "outputs": [
    {
     "name": "stdout",
     "output_type": "stream",
     "text": [
      "Problem 3 Q1 \n",
      "=================================\n",
      "theta^*: [-1.84782609 -3.26086957  4.67391304 10.86956522]\n",
      "theta_zero^*: -20.413043478222097\n",
      "optimal objective value: 654.1942344040862\n",
      "no. of misclassified examples: 3\n"
     ]
    }
   ],
   "source": [
    "eps = 3e-8\n",
    "\n",
    "def soft_svm(n,p,X,y,C):\n",
    "\n",
    "    P = np.identity(p+1+n) # theta, theta_zero, epsilons\n",
    "    # make the last (n+1) rows a zero row so that we only have theta in the objective function; \n",
    "    # however a matrix with zero rows is not positive definite so use eps\n",
    "    for i in range(0,p+n+1):\n",
    "        if i >= p:\n",
    "            P[i][i] = eps\n",
    "        else:\n",
    "            P[i][i] = P[i][i] + eps\n",
    "\n",
    "    q = C*np.concatenate((np.zeros(p+1), np.ones(n)))\n",
    "    G = -1*np.concatenate((np.concatenate((np.multiply(np.matrix(y).T,X),np.matrix(y).T, np.identity(n)),axis=1), \n",
    "                           np.concatenate((np.zeros((n,p+1)),np.identity(n)), axis=1)), axis=0)\n",
    "    h = -1*np.concatenate((np.ones(n), np.zeros(n)))\n",
    "\n",
    "    theta_softsvm = quadprog_solve_qp(P, q, G=G, h=h)\n",
    "\n",
    "    # Normalize theta\n",
    "    theta_star = theta_softsvm[0:p]\n",
    "    theta_zero = theta_softsvm[p]\n",
    "\n",
    "    # count the no. of epsilon where epsilon >1\n",
    "    num_misclassified_egs = 0\n",
    "    for i in range(0,n):\n",
    "        if y[i]*(np.dot(theta_star,X[i]) + theta_zero) < 0:\n",
    "            num_misclassified_egs += 1\n",
    "\n",
    "    obj_value = 0.5*math.pow(np.linalg.norm(theta_star),2)\n",
    "    \n",
    "    # add penalty term\n",
    "    for j in range(p+1,n+p+1):\n",
    "        epsilon_i = theta_softsvm[j]\n",
    "        if abs(epsilon_i) >= 10e-6:\n",
    "            obj_value += C*epsilon_i\n",
    "    \n",
    "    return theta_star, theta_zero, obj_value, num_misclassified_egs\n",
    "\n",
    "# Run soft SVM\n",
    "theta_star, theta_zero, obj_value, num_misclassified_egs = soft_svm(n,p,X.values,y,100)\n",
    "print('Problem 3 Q1 \\n=================================')\n",
    "print('theta^*: %s' % theta_star)\n",
    "print('theta_zero^*: %s' % theta_zero)\n",
    "print('optimal objective value: %s' % obj_value)\n",
    "print('no. of misclassified examples: %s' % num_misclassified_egs)"
   ]
  },
  {
   "cell_type": "markdown",
   "metadata": {},
   "source": [
    "## Problem 3 Q2 - Cross-validation"
   ]
  },
  {
   "cell_type": "code",
   "execution_count": 14,
   "metadata": {},
   "outputs": [
    {
     "name": "stdout",
     "output_type": "stream",
     "text": [
      "C = 1, Av. test error = 0.4\n",
      "C = 100, Av. test error = 0.6\n",
      "C = 10000, Av. test error = 0.7\n",
      "Optimal C = 1\n"
     ]
    }
   ],
   "source": [
    "C = [1,100,10000]\n",
    "av_test_error_by_C = []\n",
    "k = 10 # 10-fold cross validation\n",
    "size_of_each_fold = n//k\n",
    "\n",
    "# split the data into k folds (record the indices)\n",
    "kf = []\n",
    "for i in range(0,k):\n",
    "    temp = []\n",
    "    temp.append( list( range(i*10,(i+1)*10)) )\n",
    "    temp.append( list(range(0,i*10)) + list(range((i+1)*10,100)) )\n",
    "    kf.append(temp)\n",
    "\n",
    "for c in C:\n",
    "    test_errors = []\n",
    "    \n",
    "    # Perform 10-fold cross validation for this particular c, append the 10 errors into the test_errors vector#\n",
    "    for j in range(0,10):\n",
    "        dataset_indices = kf[j]\n",
    "        test = dataset_indices[0]\n",
    "        train = dataset_indices[1]\n",
    "        train_data_X = np.array(X)[train]\n",
    "        train_data_y = np.array(y)[train]\n",
    "        test_data_X = np.array(X)[test]\n",
    "        test_data_y = np.array(y)[test]\n",
    "        \n",
    "        # run SVM on training data\n",
    "        theta_star, theta_zero, obj_value, num_misclassified_egs = soft_svm((k-1)*size_of_each_fold\n",
    "                                                                            ,p,train_data_X,train_data_y,c)\n",
    "        \n",
    "        # calculate no. of misclassified test samples based on the trained SVM\n",
    "        num_misclassified_test_samples = 0\n",
    "        for i in range(0,size_of_each_fold):\n",
    "            if test_data_y[i]*(np.dot(theta_star,test_data_X[i]) + theta_zero) < 0:\n",
    "                num_misclassified_test_samples += 1\n",
    "            \n",
    "        # append the no. of misclassified test samples in this iteration\n",
    "        test_errors.append(num_misclassified_test_samples)\n",
    "    \n",
    "    av_test_error = np.mean(test_errors)\n",
    "    print('C = %s, Av. test error = %s' % (c, av_test_error))\n",
    "    av_test_error_by_C.append(av_test_error)\n",
    "    \n",
    "print('Optimal C = %s' % C[np.argmin(av_test_error_by_C)])\n",
    "              "
   ]
  },
  {
   "cell_type": "code",
   "execution_count": null,
   "metadata": {},
   "outputs": [],
   "source": []
  }
 ],
 "metadata": {
  "kernelspec": {
   "display_name": "Python 3",
   "language": "python",
   "name": "python3"
  },
  "language_info": {
   "codemirror_mode": {
    "name": "ipython",
    "version": 3
   },
   "file_extension": ".py",
   "mimetype": "text/x-python",
   "name": "python",
   "nbconvert_exporter": "python",
   "pygments_lexer": "ipython3",
   "version": "3.6.4"
  }
 },
 "nbformat": 4,
 "nbformat_minor": 2
}
